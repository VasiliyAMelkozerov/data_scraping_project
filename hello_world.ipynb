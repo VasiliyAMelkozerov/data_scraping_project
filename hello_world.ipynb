{
 "cells": [
  {
   "cell_type": "markdown",
   "id": "ac797a6a",
   "metadata": {},
   "source": [
    "<h1> Webscraping project </h1>"
   ]
  },
  {
   "cell_type": "markdown",
   "id": "5feb5861",
   "metadata": {},
   "source": [
    "This is the first time in a long time that I have created a jupyter notebook. The reason for this format for THIS project is to more clearly create a trail of the work done. "
   ]
  },
  {
   "cell_type": "markdown",
   "id": "6ab392bb",
   "metadata": {},
   "source": [
    "Jupyter notebook creates one concise file/format that has both markdown as well as cells that can run python code. That way when steps are created towards the desired end state the active code snipets can be seen and easily digested."
   ]
  },
  {
   "cell_type": "markdown",
   "id": "0753f41c",
   "metadata": {},
   "source": [
    "Now that all of the beginning tooling is done and updated I first need to find relavant stores that have the data I am looking for. This website (https://tealprod.tea.state.tx.us/Tea.AskTed.Web/Forms/tsdindex2025.aspx) <- this link hosts the most current Texas School Directory. This is so far a pretty complete dataset with all the ISD's listed,  the directory contains a load of information around address, jurisdictions, phone numbers. "
   ]
  },
  {
   "cell_type": "markdown",
   "id": "aa02c8cb",
   "metadata": {},
   "source": [
    "Sifting through various possible links and databases from the TEA, TXSchools .gov, NCES, I've come to find our first real good database at \"https://tealprod.tea.state.tx.us/Tea.AskTed.Web/Forms/DownloadFile.aspx\". The database here has about all of the highschools, is regularly updated, and the organization is a credited source. "
   ]
  },
  {
   "cell_type": "code",
   "execution_count": null,
   "id": "a6654b8e",
   "metadata": {
    "scrolled": true
   },
   "outputs": [],
   "source": [
    "import pandas as pd\n",
    "#pandas as the library for data structures and analysis\n",
    "import requests\n",
    "#this library makes it simple and easy to work with HTTP/S, API's and web services\n",
    "\n",
    "url = \"https://tealprod.tea.state.tx.us/Tea.AskTed.Web/Forms/DownloadFile.aspx\"\n",
    "#where we are going for the data\n",
    "responce = requests.get(url)\n",
    "#actually taps into website\n",
    "\n",
    "df = pd.read_csv(url)\n",
    "\n",
    "df.head\n",
    "#this doesn't work because it goes to the website and expects to extract directly from that page\n",
    "#what needs to happen from here is interacting with the download button to get the CSV"
   ]
  },
  {
   "cell_type": "markdown",
   "id": "3de13b2f",
   "metadata": {},
   "source": [
    "There is quite the hangup on progress so far on making a simple call to get the data from the website and be able to show the data. Before we can do anything with it, we have to get IT. I'll chalk this up to python rust. I think I'll leave all the failed attempts up and use this as scratchwork to \n",
    "1. show work and progress\n",
    "2. be able to produce code to read through"
   ]
  },
  {
   "cell_type": "code",
   "execution_count": null,
   "id": "5f10c3cd",
   "metadata": {
    "scrolled": true
   },
   "outputs": [],
   "source": [
    "import requests\n",
    "import pandas as pd\n",
    "import io\n",
    "\n",
    "# Direct request that bypasses the form (captured from browser inspection)\n",
    "headers = {'User-Agent': 'Mozilla/5.0...'}\n",
    "data = {'sort': 'school', 'format': 'csv'}  # whatever params are needed\n",
    "\n",
    "response = requests.post('https://tealprod.tea.state.tx.us/Tea.AskTed.Web/Forms/DownloadFile.aspx', headers=headers, data=data)\n",
    "df = pd.read_csv(io.StringIO(response.text))\n",
    "#the above 2 lines are hallucinations\n",
    "\n",
    "# Save final spreadsheet\n",
    "df.to_csv('Texas_HS_Esports_Complete.csv', index=False)\n",
    "print(\"Spreadsheet created: Texas_HS_Esports_Complete.csv\")\n",
    "df.head()\n",
    "\n",
    "#this does not work because it is doing basically the same thing as the above snippet, going to website and trying to pull on the website\n",
    "#rather than: website, interact, get csv"
   ]
  },
  {
   "cell_type": "code",
   "execution_count": null,
   "id": "cdb5c036",
   "metadata": {},
   "outputs": [],
   "source": []
  },
  {
   "cell_type": "code",
   "execution_count": null,
   "id": "493e3d6b",
   "metadata": {
    "scrolled": true
   },
   "outputs": [],
   "source": [
    "import requests\n",
    "import pandas as pd\n",
    "import io\n",
    "\n",
    "# Direct request to TEA AskTED download\n",
    "url = \"https://tealprod.tea.state.tx.us/Tea.AskTed.Web/Forms/DownloadFile.aspx\"\n",
    "\n",
    "headers = {\n",
    "    'User-Agent': 'Mozilla/5.0 (Windows NT 10.0; Win64; x64) AppleWebKit/537.36'\n",
    "}\n",
    "\n",
    "response = requests.get(url)\n",
    "df = pd.read_csv(io.StringIO(response.text))\n",
    "\n",
    "# Save and display\n",
    "df.to_csv('Texas_Schools_Complete.csv', index=False)\n",
    "print(\"Downloaded Texas schools data\")\n",
    "df.head()"
   ]
  },
  {
   "cell_type": "code",
   "execution_count": null,
   "id": "96ffd702",
   "metadata": {
    "scrolled": true
   },
   "outputs": [],
   "source": [
    "from selenium import webdriver\n",
    "from selenium.webdriver.common.by import By\n",
    "from selenium.webdriver.support.ui import WebDriverWait\n",
    "from selenium.webdriver.support import expected_conditions as EC\n",
    "import pandas as pd\n",
    "import time\n",
    "\n",
    "# Setup Chrome driver\n",
    "driver = webdriver.Chrome()\n",
    "\n",
    "try:\n",
    "    # Go to TEA download page\n",
    "    driver.get(\"https://tealprod.tea.state.tx.us/Tea.AskTed.Web/Forms/DownloadFile.aspx\")\n",
    "    \n",
    "    # Wait for and click the Download File button\n",
    "    download_button = WebDriverWait(driver, 10).until(\n",
    "        EC.element_to_be_clickable((By.XPATH, \"//input[@value='Download File']\"))\n",
    "    )\n",
    "    download_button.click()\n",
    "    \n",
    "    # Wait a moment for download to start\n",
    "    time.sleep(3)\n",
    "    \n",
    "finally:\n",
    "    driver.quit()\n",
    "\n",
    "# Read the downloaded file (adjust path as needed)\n",
    "df = pd.read_csv(\"Downloads/DownloadFile.csv\")  # or wherever it downloads\n",
    "df.to_csv('Texas_Schools_Complete.csv', index=False)\n",
    "print(\"Downloaded Texas schools data\")\n",
    "df.head()"
   ]
  },
  {
   "cell_type": "code",
   "execution_count": null,
   "id": "e2c36fb9",
   "metadata": {},
   "outputs": [],
   "source": []
  }
 ],
 "metadata": {
  "kernelspec": {
   "display_name": "Python 3 (ipykernel)",
   "language": "python",
   "name": "python3"
  },
  "language_info": {
   "codemirror_mode": {
    "name": "ipython",
    "version": 3
   },
   "file_extension": ".py",
   "mimetype": "text/x-python",
   "name": "python",
   "nbconvert_exporter": "python",
   "pygments_lexer": "ipython3",
   "version": "3.9.7"
  }
 },
 "nbformat": 4,
 "nbformat_minor": 5
}
