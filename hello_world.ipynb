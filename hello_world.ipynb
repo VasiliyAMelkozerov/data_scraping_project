{
 "cells": [
  {
   "cell_type": "markdown",
   "id": "ac797a6a",
   "metadata": {},
   "source": [
    "<h1> Webscraping project </h1>"
   ]
  },
  {
   "cell_type": "markdown",
   "id": "5feb5861",
   "metadata": {},
   "source": [
    "This is the first time in a long time that I have created a jupyter notebook. The reason for this format for THIS project is to more clearly create a trail of the work done. "
   ]
  },
  {
   "cell_type": "markdown",
   "id": "6ab392bb",
   "metadata": {},
   "source": [
    "Jupyter notebook creates one concise file/format that has both markdown as well as cells that can run python code. That way when steps are created towards the desired end state the active code snipets can be seen and easily digested."
   ]
  },
  {
   "cell_type": "markdown",
   "id": "0753f41c",
   "metadata": {},
   "source": [
    "Now that all of the beginning tooling is done and updated I first need to find relavant stores that have the data I am looking for. This website (https://tealprod.tea.state.tx.us/Tea.AskTed.Web/Forms/tsdindex2025.aspx) <- this link hosts the most current Texas School Directory. This is so far a pretty complete dataset with all the ISD's listed,  the directory contains a load of information around address, jurisdictions, phone numbers. "
   ]
  },
  {
   "cell_type": "markdown",
   "id": "aa02c8cb",
   "metadata": {},
   "source": [
    "Sifting through various possible links and databases from the TEA, TXSchools .gov, NCES, I've come to find our first real good database at \"https://tealprod.tea.state.tx.us/Tea.AskTed.Web/Forms/DownloadFile.aspx\". The database here has about all of the highschools, is regularly updated, and the organization is a credited source. "
   ]
  },
  {
   "cell_type": "code",
   "execution_count": 3,
   "id": "a6654b8e",
   "metadata": {},
   "outputs": [
    {
     "name": "stdout",
     "output_type": "stream",
     "text": [
      "❌ File not found: texas_schools_data.csv\n"
     ]
    }
   ],
   "source": [
    "import pandas as pd\n",
    "\n",
    "# Import TEA AskTED CSV data\n",
    "def import_tea_data(file_path='texas_schools_data.csv'):\n",
    "    \"\"\"\n",
    "    Import TEA AskTED CSV into pandas DataFrame\n",
    "    \"\"\"\n",
    "    try:\n",
    "        df = pd.read_csv(file_path)\n",
    "        print(f\"✅ Loaded {len(df):,} rows, {len(df.columns)} columns\")\n",
    "        print(f\"📋 Columns: {list(df.columns)}\")\n",
    "        return df\n",
    "    except FileNotFoundError:\n",
    "        print(f\"❌ File not found: {file_path}\")\n",
    "        return None\n",
    "    except Exception as e:\n",
    "        print(f\"❌ Error: {e}\")\n",
    "        return None\n",
    "\n",
    "# Run the import\n",
    "df = import_tea_data()"
   ]
  },
  {
   "cell_type": "code",
   "execution_count": null,
   "id": "3e1a7258",
   "metadata": {},
   "outputs": [],
   "source": []
  },
  {
   "cell_type": "code",
   "execution_count": null,
   "id": "5f10c3cd",
   "metadata": {},
   "outputs": [],
   "source": []
  }
 ],
 "metadata": {
  "kernelspec": {
   "display_name": "Python 3 (ipykernel)",
   "language": "python",
   "name": "python3"
  },
  "language_info": {
   "codemirror_mode": {
    "name": "ipython",
    "version": 3
   },
   "file_extension": ".py",
   "mimetype": "text/x-python",
   "name": "python",
   "nbconvert_exporter": "python",
   "pygments_lexer": "ipython3",
   "version": "3.9.7"
  }
 },
 "nbformat": 4,
 "nbformat_minor": 5
}
