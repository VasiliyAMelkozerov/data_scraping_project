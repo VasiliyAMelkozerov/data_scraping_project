{
 "cells": [
  {
   "cell_type": "markdown",
   "id": "241fcfb7",
   "metadata": {},
   "source": [
    "<h1> Webscraping project </h1>"
   ]
  },
  {
   "cell_type": "markdown",
   "id": "13ccadcd",
   "metadata": {},
   "source": [
    "This is the first time in a long time that I have created a jupyter notebook. The reason for this format for THIS project is to more clearly create a trail of the work done. "
   ]
  },
  {
   "cell_type": "markdown",
   "id": "0d35b117",
   "metadata": {},
   "source": [
    "Jupyter notebook creates one concise file/format that has both markdown as well as cells that can run python code. That way when steps are created towards the desired end state the active code snipets can be seen and easily digested."
   ]
  },
  {
   "cell_type": "code",
   "execution_count": null,
   "id": "25d9a84f",
   "metadata": {},
   "outputs": [],
   "source": []
  }
 ],
 "metadata": {
  "kernelspec": {
   "display_name": "Python 3 (ipykernel)",
   "language": "python",
   "name": "python3"
  },
  "language_info": {
   "codemirror_mode": {
    "name": "ipython",
    "version": 3
   },
   "file_extension": ".py",
   "mimetype": "text/x-python",
   "name": "python",
   "nbconvert_exporter": "python",
   "pygments_lexer": "ipython3",
   "version": "3.9.7"
  }
 },
 "nbformat": 4,
 "nbformat_minor": 5
}
